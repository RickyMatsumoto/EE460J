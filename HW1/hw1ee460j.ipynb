{
  "nbformat": 4,
  "nbformat_minor": 0,
  "metadata": {
    "colab": {
      "name": "hw1ee460j.ipynb",
      "provenance": [],
      "collapsed_sections": []
    },
    "kernelspec": {
      "name": "python3",
      "display_name": "Python 3"
    },
    "language_info": {
      "name": "python"
    }
  },
  "cells": [
    {
      "cell_type": "code",
      "metadata": {
        "id": "NCldJpDqBvH4",
        "colab": {
          "base_uri": "https://localhost:8080/",
          "height": 316
        },
        "outputId": "13639b04-b9d2-4d81-d84e-9c29c11b2fb2"
      },
      "source": [
        "#Question 1\n",
        "\n",
        "import numpy as np \n",
        "import matplotlib.pyplot as plt\n",
        "import pandas as pd\n",
        "import scipy.stats\n",
        "import math\n",
        "\n",
        "mu, sigma = -10, 5\n",
        "s1 = np.random.normal(mu, sigma, 1000)\n",
        "mu, sigma = 10, 5\n",
        "s2 = np.random.normal(mu, sigma, 1000)\n",
        "s = s1 + s2\n",
        "\n",
        "count, bins, ignored = plt.hist(s, 30, density=True)\n",
        "\n",
        "plt.show()\n",
        "\n",
        "print(\"Mean = \" + str(np.mean(s)))\n",
        "print(\"Variance = \" + str(np.var(s, 0)))\n",
        "\n",
        "print(\"Mean is close to the sum of the two gaussians' means. The standard deviation also became larger.\")\n"
      ],
      "execution_count": null,
      "outputs": [
        {
          "output_type": "display_data",
          "data": {
            "image/png": "[encoded data removed]",
            "text/plain": [
              "<Figure size 432x288 with 1 Axes>"
            ]
          },
          "metadata": {
            "needs_background": "light"
          }
        },
        {
          "output_type": "stream",
          "name": "stdout",
          "text": [
            "Mean = -0.013341485782995441\n",
            "Variance = 47.73481945060966\n",
            "Mean is close to the sum of the two gaussians' means. The standard deviation also became larger.\n"
          ]
        }
      ]
    },
    {
      "cell_type": "code",
      "metadata": {
        "id": "a0iDegSvUhoe",
        "colab": {
          "base_uri": "https://localhost:8080/",
          "height": 265
        },
        "outputId": "bafb6122-19c8-42e5-f5d4-8972e54503b7"
      },
      "source": [
        "#Question 2\n",
        "\n",
        "n = 1000\n",
        "total = np.empty([n, 1], float)\n",
        "\n",
        "for i in range(n):\n",
        "  s = np.random.binomial(1, 0.5, n)\n",
        "  s[s==0] = -1\n",
        "  z = (1/math.sqrt(n))*np.sum(s)\n",
        "  total[i] = z\n",
        "plt.hist(total, 30, density=True)\n",
        "plt.show()"
      ],
      "execution_count": null,
      "outputs": [
        {
          "output_type": "display_data",
          "data": {
            "image/png": "[encoded data removed]",
            "text/plain": [
              "<Figure size 432x288 with 1 Axes>"
            ]
          },
          "metadata": {
            "needs_background": "light"
          }
        }
      ]
    },
    {
      "cell_type": "code",
      "metadata": {
        "id": "1iLiOzrza_Tf",
        "colab": {
          "base_uri": "https://localhost:8080/"
        },
        "outputId": "d22ad9c5-4ead-4e87-a357-e2a5d5964c5c"
      },
      "source": [
        "#Question 3\n",
        "\n",
        "mu, sigma = 0, 5\n",
        "s = np.random.normal(mu, sigma, 25000)\n",
        "sum = np.sum(s)\n",
        "mean = sum/25000\n",
        "sd = np.sqrt(np.sum((s-mean)**2)/24999)\n",
        "\n",
        "print(\"Mean = \" + str(mean))\n",
        "print(\"Standard Deviation = \" + str(sd))\n"
      ],
      "execution_count": null,
      "outputs": [
        {
          "output_type": "stream",
          "name": "stdout",
          "text": [
            "Mean = -0.016289211468201347\n",
            "Standard Deviation = 5.0408782911687275\n"
          ]
        }
      ]
    },
    {
      "cell_type": "code",
      "metadata": {
        "id": "3ZvtaeLMMQtU",
        "colab": {
          "base_uri": "https://localhost:8080/"
        },
        "outputId": "1253cf2b-036f-4e8b-9460-8fab2f091dda"
      },
      "source": [
        "#Question 4\n",
        "\n",
        "mean = [-5,5]\n",
        "cov = [[20, .8],[.8, 30]]\n",
        "\n",
        "s = np.random.multivariate_normal(mean, cov, 10000)\n",
        "\n",
        "sum = 0\n",
        "for i in s:\n",
        "    sum += i \n",
        "s_mean = sum/10000\n",
        "\n",
        "print(\"Mean = \", s_mean)\n",
        "\n",
        "ex = s_mean[0]\n",
        "ey = s_mean[1]\n",
        "\n",
        "xvar = np.sum((s.T[0] - ex)**2)/9999\n",
        "yvar = np.sum((s.T[1] - ey)**2)/9999\n",
        "\n",
        "xycov = 0\n",
        "for i in s:\n",
        "    xycov += (i[0] - ex)*(i[1] - ey)\n",
        "xycov = xycov/9999\n",
        "\n",
        "s_cov = [[xvar, xycov],[xycov, yvar]]\n",
        "\n",
        "print(\"Covariance Matrix = \", s_cov)\n",
        "\n"
      ],
      "execution_count": null,
      "outputs": [
        {
          "output_type": "stream",
          "name": "stdout",
          "text": [
            "Mean =  [-5.00833185  5.07925922]\n",
            "Covariance Matrix =  [[20.067504846213755, 0.8319279722570775], [0.8319279722570775, 29.392940563879502]]\n"
          ]
        }
      ]
    }
  ]
}