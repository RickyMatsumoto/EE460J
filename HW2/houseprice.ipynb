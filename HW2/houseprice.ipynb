{
 "cells": [
  {
   "cell_type": "code",
   "execution_count": 160,
   "source": [
    "import pandas as pd\r\n",
    "import numpy as np\r\n",
    "import seaborn as sns\r\n",
    "import matplotlib\r\n",
    "\r\n",
    "import matplotlib.pyplot as plt\r\n",
    "from scipy.stats import skew\r\n",
    "from scipy.stats.stats import pearsonr\r\n",
    "import csv\r\n",
    "\r\n",
    "%config InlineBackend.figure_format = 'png' #set 'png' here when working on notebook\r\n",
    "%matplotlib inline"
   ],
   "outputs": [],
   "metadata": {}
  },
  {
   "cell_type": "code",
   "execution_count": 161,
   "source": [
    "train = pd.read_csv(\"input/train.csv\")\r\n",
    "test = pd.read_csv(\"input/test.csv\")\r\n",
    "train.head()"
   ],
   "outputs": [
    {
     "output_type": "execute_result",
     "data": {
      "text/html": [
       "<div>\n",
       "<style scoped>\n",
       "    .dataframe tbody tr th:only-of-type {\n",
       "        vertical-align: middle;\n",
       "    }\n",
       "\n",
       "    .dataframe tbody tr th {\n",
       "        vertical-align: top;\n",
       "    }\n",
       "\n",
       "    .dataframe thead th {\n",
       "        text-align: right;\n",
       "    }\n",
       "</style>\n",
       "<table border=\"1\" class=\"dataframe\">\n",
       "  <thead>\n",
       "    <tr style=\"text-align: right;\">\n",
       "      <th></th>\n",
       "      <th>Id</th>\n",
       "      <th>MSSubClass</th>\n",
       "      <th>MSZoning</th>\n",
       "      <th>LotFrontage</th>\n",
       "      <th>LotArea</th>\n",
       "      <th>Street</th>\n",
       "      <th>Alley</th>\n",
       "      <th>LotShape</th>\n",
       "      <th>LandContour</th>\n",
       "      <th>Utilities</th>\n",
       "      <th>...</th>\n",
       "      <th>PoolArea</th>\n",
       "      <th>PoolQC</th>\n",
       "      <th>Fence</th>\n",
       "      <th>MiscFeature</th>\n",
       "      <th>MiscVal</th>\n",
       "      <th>MoSold</th>\n",
       "      <th>YrSold</th>\n",
       "      <th>SaleType</th>\n",
       "      <th>SaleCondition</th>\n",
       "      <th>SalePrice</th>\n",
       "    </tr>\n",
       "  </thead>\n",
       "  <tbody>\n",
       "    <tr>\n",
       "      <th>0</th>\n",
       "      <td>1</td>\n",
       "      <td>60</td>\n",
       "      <td>RL</td>\n",
       "      <td>65.0</td>\n",
       "      <td>8450</td>\n",
       "      <td>Pave</td>\n",
       "      <td>NaN</td>\n",
       "      <td>Reg</td>\n",
       "      <td>Lvl</td>\n",
       "      <td>AllPub</td>\n",
       "      <td>...</td>\n",
       "      <td>0</td>\n",
       "      <td>NaN</td>\n",
       "      <td>NaN</td>\n",
       "      <td>NaN</td>\n",
       "      <td>0</td>\n",
       "      <td>2</td>\n",
       "      <td>2008</td>\n",
       "      <td>WD</td>\n",
       "      <td>Normal</td>\n",
       "      <td>208500</td>\n",
       "    </tr>\n",
       "    <tr>\n",
       "      <th>1</th>\n",
       "      <td>2</td>\n",
       "      <td>20</td>\n",
       "      <td>RL</td>\n",
       "      <td>80.0</td>\n",
       "      <td>9600</td>\n",
       "      <td>Pave</td>\n",
       "      <td>NaN</td>\n",
       "      <td>Reg</td>\n",
       "      <td>Lvl</td>\n",
       "      <td>AllPub</td>\n",
       "      <td>...</td>\n",
       "      <td>0</td>\n",
       "      <td>NaN</td>\n",
       "      <td>NaN</td>\n",
       "      <td>NaN</td>\n",
       "      <td>0</td>\n",
       "      <td>5</td>\n",
       "      <td>2007</td>\n",
       "      <td>WD</td>\n",
       "      <td>Normal</td>\n",
       "      <td>181500</td>\n",
       "    </tr>\n",
       "    <tr>\n",
       "      <th>2</th>\n",
       "      <td>3</td>\n",
       "      <td>60</td>\n",
       "      <td>RL</td>\n",
       "      <td>68.0</td>\n",
       "      <td>11250</td>\n",
       "      <td>Pave</td>\n",
       "      <td>NaN</td>\n",
       "      <td>IR1</td>\n",
       "      <td>Lvl</td>\n",
       "      <td>AllPub</td>\n",
       "      <td>...</td>\n",
       "      <td>0</td>\n",
       "      <td>NaN</td>\n",
       "      <td>NaN</td>\n",
       "      <td>NaN</td>\n",
       "      <td>0</td>\n",
       "      <td>9</td>\n",
       "      <td>2008</td>\n",
       "      <td>WD</td>\n",
       "      <td>Normal</td>\n",
       "      <td>223500</td>\n",
       "    </tr>\n",
       "    <tr>\n",
       "      <th>3</th>\n",
       "      <td>4</td>\n",
       "      <td>70</td>\n",
       "      <td>RL</td>\n",
       "      <td>60.0</td>\n",
       "      <td>9550</td>\n",
       "      <td>Pave</td>\n",
       "      <td>NaN</td>\n",
       "      <td>IR1</td>\n",
       "      <td>Lvl</td>\n",
       "      <td>AllPub</td>\n",
       "      <td>...</td>\n",
       "      <td>0</td>\n",
       "      <td>NaN</td>\n",
       "      <td>NaN</td>\n",
       "      <td>NaN</td>\n",
       "      <td>0</td>\n",
       "      <td>2</td>\n",
       "      <td>2006</td>\n",
       "      <td>WD</td>\n",
       "      <td>Abnorml</td>\n",
       "      <td>140000</td>\n",
       "    </tr>\n",
       "    <tr>\n",
       "      <th>4</th>\n",
       "      <td>5</td>\n",
       "      <td>60</td>\n",
       "      <td>RL</td>\n",
       "      <td>84.0</td>\n",
       "      <td>14260</td>\n",
       "      <td>Pave</td>\n",
       "      <td>NaN</td>\n",
       "      <td>IR1</td>\n",
       "      <td>Lvl</td>\n",
       "      <td>AllPub</td>\n",
       "      <td>...</td>\n",
       "      <td>0</td>\n",
       "      <td>NaN</td>\n",
       "      <td>NaN</td>\n",
       "      <td>NaN</td>\n",
       "      <td>0</td>\n",
       "      <td>12</td>\n",
       "      <td>2008</td>\n",
       "      <td>WD</td>\n",
       "      <td>Normal</td>\n",
       "      <td>250000</td>\n",
       "    </tr>\n",
       "  </tbody>\n",
       "</table>\n",
       "<p>5 rows × 81 columns</p>\n",
       "</div>"
      ],
      "text/plain": [
       "   Id  MSSubClass MSZoning  LotFrontage  LotArea Street Alley LotShape  \\\n",
       "0   1          60       RL         65.0     8450   Pave   NaN      Reg   \n",
       "1   2          20       RL         80.0     9600   Pave   NaN      Reg   \n",
       "2   3          60       RL         68.0    11250   Pave   NaN      IR1   \n",
       "3   4          70       RL         60.0     9550   Pave   NaN      IR1   \n",
       "4   5          60       RL         84.0    14260   Pave   NaN      IR1   \n",
       "\n",
       "  LandContour Utilities  ... PoolArea PoolQC Fence MiscFeature MiscVal MoSold  \\\n",
       "0         Lvl    AllPub  ...        0    NaN   NaN         NaN       0      2   \n",
       "1         Lvl    AllPub  ...        0    NaN   NaN         NaN       0      5   \n",
       "2         Lvl    AllPub  ...        0    NaN   NaN         NaN       0      9   \n",
       "3         Lvl    AllPub  ...        0    NaN   NaN         NaN       0      2   \n",
       "4         Lvl    AllPub  ...        0    NaN   NaN         NaN       0     12   \n",
       "\n",
       "  YrSold  SaleType  SaleCondition  SalePrice  \n",
       "0   2008        WD         Normal     208500  \n",
       "1   2007        WD         Normal     181500  \n",
       "2   2008        WD         Normal     223500  \n",
       "3   2006        WD        Abnorml     140000  \n",
       "4   2008        WD         Normal     250000  \n",
       "\n",
       "[5 rows x 81 columns]"
      ]
     },
     "metadata": {},
     "execution_count": 161
    }
   ],
   "metadata": {}
  },
  {
   "cell_type": "code",
   "execution_count": 162,
   "source": [
    "all_data = pd.concat((train.loc[:,'MSSubClass':'SaleCondition'],\r\n",
    "                      test.loc[:,'MSSubClass':'SaleCondition']))"
   ],
   "outputs": [],
   "metadata": {}
  },
  {
   "cell_type": "code",
   "execution_count": 163,
   "source": [
    "matplotlib.rcParams['figure.figsize'] = (12.0, 6.0)\r\n",
    "prices = pd.DataFrame({\"price\":train[\"SalePrice\"], \"log(price + 1)\":np.log1p(train[\"SalePrice\"])})\r\n",
    "prices.hist()"
   ],
   "outputs": [
    {
     "output_type": "execute_result",
     "data": {
      "text/plain": [
       "array([[<AxesSubplot:title={'center':'price'}>,\n",
       "        <AxesSubplot:title={'center':'log(price + 1)'}>]], dtype=object)"
      ]
     },
     "metadata": {},
     "execution_count": 163
    },
    {
     "output_type": "display_data",
     "data": {
      "image/png": "[encoded data removed]",
      "text/plain": [
       "<Figure size 864x432 with 2 Axes>"
      ]
     },
     "metadata": {
      "needs_background": "light"
     }
    }
   ],
   "metadata": {}
  },
  {
   "cell_type": "code",
   "execution_count": 164,
   "source": [
    "#log transform the target:\r\n",
    "train[\"SalePrice\"] = np.log1p(train[\"SalePrice\"])\r\n",
    "\r\n",
    "#log transform skewed numeric features:\r\n",
    "numeric_feats = all_data.dtypes[all_data.dtypes != \"object\"].index\r\n",
    "\r\n",
    "skewed_feats = train[numeric_feats].apply(lambda x: skew(x.dropna())) #compute skewness\r\n",
    "skewed_feats = skewed_feats[skewed_feats > 0.75]\r\n",
    "skewed_feats = skewed_feats.index\r\n",
    "\r\n",
    "all_data[skewed_feats] = np.log1p(all_data[skewed_feats])\r\n",
    "\r\n",
    "all_data = pd.get_dummies(all_data)\r\n",
    "\r\n",
    "#filling NA's with the mean of the column:\r\n",
    "all_data = all_data.fillna(all_data.mean())\r\n",
    "\r\n",
    "#creating matrices for sklearn:\r\n",
    "X_train = all_data[:train.shape[0]]\r\n",
    "X_test = all_data[train.shape[0]:]\r\n",
    "y = train.SalePrice"
   ],
   "outputs": [],
   "metadata": {}
  },
  {
   "cell_type": "code",
   "execution_count": 165,
   "source": [
    "from sklearn.linear_model import Ridge, RidgeCV, ElasticNet, LassoCV, LassoLarsCV, Lasso\r\n",
    "from sklearn.model_selection import cross_val_score\r\n",
    "\r\n",
    "def rmse_cv(model):\r\n",
    "    rmse= np.sqrt(-cross_val_score(model, X_train, y, scoring=\"neg_mean_squared_error\", cv = 5))\r\n",
    "    return(rmse)\r\n",
    "\r\n",
    "model_ridge = Ridge()\r\n",
    "\r\n",
    "alphas = [0.05, 0.1, 0.3, 1, 3, 5, 10, 15, 30, 50, 75]\r\n",
    "cv_ridge = rmse_cv(Ridge(alpha = 0.1))\r\n"
   ],
   "outputs": [],
   "metadata": {}
  },
  {
   "cell_type": "code",
   "execution_count": 166,
   "source": [
    "model_ridge.fit(X_train, y)\r\n",
    "preds = np.expm1(model_ridge.predict(X_test))\r\n",
    "print(test.iloc[:, 0])"
   ],
   "outputs": [
    {
     "output_type": "stream",
     "name": "stdout",
     "text": [
      "0       1461\n",
      "1       1462\n",
      "2       1463\n",
      "3       1464\n",
      "4       1465\n",
      "        ... \n",
      "1454    2915\n",
      "1455    2916\n",
      "1456    2917\n",
      "1457    2918\n",
      "1458    2919\n",
      "Name: Id, Length: 1459, dtype: int64\n"
     ]
    }
   ],
   "metadata": {}
  },
  {
   "cell_type": "code",
   "execution_count": 167,
   "source": [
    "header = ['Id', 'SalePrice']\r\n",
    "with open('output/prediction.csv', 'w', ) as myfile:\r\n",
    "    wr = csv.writer(myfile)\r\n",
    "    wr.writerow(header)\r\n",
    "    for i in range(preds.size):\r\n",
    "        wr.writerow([test.iloc[i, 0], preds[i]])\r\n",
    "print(\"rmse = 0.13043\")\r\n",
    "    "
   ],
   "outputs": [
    {
     "output_type": "stream",
     "name": "stdout",
     "text": [
      "rmse = 0.13043\n"
     ]
    }
   ],
   "metadata": {}
  },
  {
   "cell_type": "code",
   "execution_count": 168,
   "source": [
    "cv_ridge = rmse_cv(Ridge(alpha = 10)).mean()\r\n",
    "print(\"Lowest RMSE with single ridge :\")\r\n",
    "print(cv_ridge)\r\n",
    "model_lasso = LassoCV(alphas = [1, 0.1, 0.001, 0.0005]).fit(X_train, y)\r\n",
    "print(\"Lowest RMSE with single lasso :\")\r\n",
    "rmse_cv(model_lasso).mean()"
   ],
   "outputs": [
    {
     "output_type": "stream",
     "name": "stdout",
     "text": [
      "Lowest RMSE with single ridge :\n",
      "0.12733734668670751\n",
      "Lowest RMSE with single lasso :\n"
     ]
    },
    {
     "output_type": "execute_result",
     "data": {
      "text/plain": [
       "0.1225673588504814"
      ]
     },
     "metadata": {},
     "execution_count": 168
    }
   ],
   "metadata": {}
  },
  {
   "cell_type": "code",
   "execution_count": 169,
   "source": [
    "alphas = [1, 0.1, 0.001, 0.0005]\r\n",
    "l0 = []\r\n",
    "for e in alphas:\r\n",
    "    model_lasso_single = Lasso(alpha = e).fit(X_train, y)\r\n",
    "    coef = pd.Series(model_lasso_single.coef_, index = X_train.columns)\r\n",
    "    l0.append(sum(coef != 0))\r\n",
    "l0 = pd.Series(l0, index = alphas)\r\n",
    "l0.plot(title = \"l0 norm with varying alpha\")"
   ],
   "outputs": [
    {
     "output_type": "execute_result",
     "data": {
      "text/plain": [
       "<AxesSubplot:title={'center':'l0 norm with varying alpha'}>"
      ]
     },
     "metadata": {},
     "execution_count": 169
    },
    {
     "output_type": "display_data",
     "data": {
      "image/png": "[encoded data removed]",
      "text/plain": [
       "<Figure size 864x432 with 1 Axes>"
      ]
     },
     "metadata": {
      "needs_background": "light"
     }
    }
   ],
   "metadata": {}
  },
  {
   "cell_type": "code",
   "execution_count": 174,
   "source": [
    "# Ensembling and Stacking\r\n",
    "preds = np.expm1(model_ridge.predict(X_train))\r\n",
    "preds = np.reshape(preds, (-1, 1))\r\n",
    "temp = np.append(X_train, preds, 1)\r\n",
    "preds = np.expm1(model_lasso.predict(X_train))\r\n",
    "preds = np.reshape(preds, (-1, 1))\r\n",
    "X_train = np.append(temp, preds, 1)\r\n",
    "\r\n",
    "alphas = [0.05, 0.1, 0.3, 1, 3, 5, 10, 15, 30, 50, 75]\r\n",
    "cv_ridge = [rmse_cv(Ridge(alpha = alpha)).mean() \r\n",
    "            for alpha in alphas]\r\n",
    "cv_ridge = pd.Series(cv_ridge, index = alphas)\r\n",
    "print(cv_ridge)\r\n",
    "print(\"rmse is at minimum when alpha = 50\")"
   ],
   "outputs": [
    {
     "output_type": "stream",
     "name": "stdout",
     "text": [
      "0.05     0.134908\n",
      "0.10     0.133475\n",
      "0.30     0.130137\n",
      "1.00     0.125256\n",
      "3.00     0.120531\n",
      "5.00     0.118555\n",
      "10.00    0.116315\n",
      "15.00    0.115313\n",
      "30.00    0.114235\n",
      "50.00    0.113973\n",
      "75.00    0.114078\n",
      "dtype: float64\n",
      "rmse is at minimum when alpha = 50\n"
     ]
    }
   ],
   "metadata": {}
  },
  {
   "cell_type": "code",
   "execution_count": 198,
   "source": [
    "import xgboost as xgb\r\n",
    "from sklearn.metrics import mean_squared_error\r\n",
    "from mlxtend.regressor import StackingCVRegressor\r\n",
    "\r\n",
    "\r\n",
    "model_ridge = Ridge(alpha = 50)\r\n",
    "model_lasso = LassoCV(alphas = [1, 0.1, 0.001, 0.0005])\r\n",
    "X_train_xgb = all_data[:train.shape[0]]\r\n",
    "\r\n",
    "dtrain = xgb.DMatrix(X_train_xgb, label=y)\r\n",
    "dtest = xgb.DMatrix(X_test)\r\n",
    "param = {'max_depth':8, 'eta': 0.2, 'min_child_weight': 3, 'objective':'reg:squarederror' }\r\n",
    "num_round = 200\r\n",
    "bst = xgb.train(param, dtrain, num_round)\r\n",
    "preds = bst.predict(dtrain)\r\n",
    "print(preds)\r\n",
    "print(y)\r\n",
    "rms = mean_squared_error(y, preds, squared=False)\r\n",
    "print(rms)\r\n",
    "preds = np.expm1(bst.predict(dtest))\r\n",
    "\r\n",
    "# xgbr = xgb.XGBRegressor()\r\n",
    "\r\n",
    "# stack = StackingCVRegressor(regressors=(model_ridge, model_lasso, xgbr),\r\n",
    "#                             meta_regressor=xgbr,\r\n",
    "#                             use_features_in_secondary=False,\r\n",
    "#                             store_train_meta_features=True,\r\n",
    "#                             shuffle=False,\r\n",
    "#                             random_state=42)\r\n",
    "\r\n",
    "# stack.fit(X_train, y)\r\n",
    "# preds = stack.predict(X_test)\r\n",
    "# print(y)\r\n",
    "# print(preds)\r\n",
    "# rms = mean_squared_error(y, preds, squared=False)\r\n",
    "# print(rms)\r\n",
    "\r\n"
   ],
   "outputs": [],
   "metadata": {}
  },
  {
   "cell_type": "code",
   "execution_count": null,
   "source": [
    "model_ridge.fit(X_train, y)\r\n",
    "preds = model_ridge.predict(X_test)\r\n",
    "\r\n",
    "with open('output/submission.csv', 'w', ) as myfile:\r\n",
    "    wr = csv.writer(myfile)\r\n",
    "    wr.writerow(header)\r\n",
    "    for i in range(preds.size):\r\n",
    "        wr.writerow([test.iloc[i, 0], np.expm1(preds[i])])"
   ],
   "outputs": [],
   "metadata": {}
  }
 ],
 "metadata": {
  "orig_nbformat": 4,
  "language_info": {
   "name": "python",
   "version": "3.8.7",
   "mimetype": "text/x-python",
   "codemirror_mode": {
    "name": "ipython",
    "version": 3
   },
   "pygments_lexer": "ipython3",
   "nbconvert_exporter": "python",
   "file_extension": ".py"
  },
  "kernelspec": {
   "name": "python3",
   "display_name": "Python 3.8.7 64-bit"
  },
  "interpreter": {
   "hash": "0cfc3418fbb0b75a0645952954c4ab5c0f0c0d5bc60cf2b471b479c2dd62b67a"
  }
 },
 "nbformat": 4,
 "nbformat_minor": 2
}