{
 "cells": [
  {
   "cell_type": "markdown",
   "source": [
    "EE460J Lab 4\r\n",
    "\r\n",
    "Lab Group Members: Tatsushi Matsumoto, Nick Taylor, Matthew Withey"
   ],
   "metadata": {}
  },
  {
   "cell_type": "code",
   "execution_count": null,
   "source": [
    "#Imports\r\n",
    "import matplotlib.pyplot as plt\r\n",
    "import numpy as np"
   ],
   "outputs": [],
   "metadata": {}
  },
  {
   "cell_type": "markdown",
   "source": [
    "Problem 2"
   ],
   "metadata": {}
  },
  {
   "cell_type": "code",
   "execution_count": null,
   "source": [],
   "outputs": [],
   "metadata": {}
  }
 ],
 "metadata": {
  "orig_nbformat": 4,
  "language_info": {
   "name": "python",
   "version": "3.9.7"
  },
  "kernelspec": {
   "name": "python3",
   "display_name": "Python 3.9.7 64-bit (windows store)"
  },
  "interpreter": {
   "hash": "1dad66442678a98f39e5b152fd943ae10a1faa89c25104c05e2c1e46874487d8"
  }
 },
 "nbformat": 4,
 "nbformat_minor": 2
}