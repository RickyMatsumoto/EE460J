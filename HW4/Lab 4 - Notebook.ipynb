{
 "cells": [
  {
   "cell_type": "markdown",
   "metadata": {},
   "source": [
    "EE460J Lab 4\n",
    "\n",
    "Lab Group Members: Tatsushi Matsumoto, Nick Taylor, Matthew Withey"
   ]
  },
  {
   "cell_type": "code",
   "execution_count": 15,
   "metadata": {},
   "outputs": [],
   "source": [
    "#Imports\n",
    "import matplotlib.pyplot as plt\n",
    "import numpy as np\n",
    "import pandas as pd\n",
    "import sklearn.datasets\n",
    "import sklearn.metrics\n",
    "from sklearn.model_selection import train_test_split\n",
    "from sklearn.model_selection import cross_val_score\n",
    "from sklearn.linear_model import LogisticRegressionCV\n",
    "from sklearn.ensemble import RandomForestClassifier\n",
    "from sklearn.ensemble import GradientBoostingClassifier\n"
   ]
  },
  {
   "cell_type": "markdown",
   "metadata": {},
   "source": [
    "Problem 1"
   ]
  },
  {
   "cell_type": "code",
   "execution_count": null,
   "metadata": {},
   "outputs": [],
   "source": []
  },
  {
   "cell_type": "markdown",
   "metadata": {},
   "source": [
    "Problem 2"
   ]
  },
  {
   "cell_type": "code",
   "execution_count": 7,
   "metadata": {},
   "outputs": [],
   "source": [
    "#Get MNIST dataset and create data matrix and target vector\n",
    "\n",
    "mnist = sklearn.datasets.fetch_openml(\"mnist_784\")\n",
    "\n",
    "X = mnist.data\n",
    "y = mnist.target"
   ]
  },
  {
   "cell_type": "code",
   "execution_count": null,
   "metadata": {},
   "outputs": [],
   "source": [
    "#Create train-test split of dataset\n",
    "X_train, X_test, y_train, y_test = train_test_split(X, y, test_size = 0.60)\n",
    "\n",
    "#Run multiclass logistic regression on split with l2 regularizer\n",
    "logistic_Reg = LogisticRegressionCV(solver='saga' ,multi_class='multinomial')\n",
    "logistic_Reg.fit(X_train, y_train)\n",
    "\n",
    "result = logistic_Reg.predict(X_test)\n",
    "log_reg_accuracy = logistic_Reg.score(result, y_test)\n",
    "\n",
    "print(\"Split Accuracy = \" + str(log_reg_accuracy))\n",
    "\n",
    "#Run parameters on full dataset\n",
    "full_result = logistic_Reg.predict(X)\n",
    "full_accuracy = logistic_Reg.score(full_result, y)\n",
    "\n",
    "print(\"Full Accuracy = \" + str(full_accuracy))"
   ]
  },
  {
   "cell_type": "code",
   "execution_count": null,
   "metadata": {},
   "outputs": [],
   "source": [
    "#Run multiclass logistic regression on split with l1 regularizer\n",
    "logistic_Reg_l1 = LogisticRegressionCV(solver='saga' ,multi_class='multinomial' ,penalty='l1')\n",
    "logistic_Reg_l1.fit(X_train, y_train)\n",
    "\n",
    "result_l1 = logistic_Reg_l1.predict(X_test)\n",
    "log_reg_accuracy_l1 = logistic_Reg_l1.score(result_l1, y_test)\n",
    "\n",
    "print(\"Split Accuracy for l1 = \" + str(log_reg_accuracy_l1))\n",
    "\n",
    "#Run parameters on full dataset\n",
    "full_result_l1 = logistic_Reg_l1.predict(X)\n",
    "full_accuracy_l1 = logistic_Reg_l1.score(full_result, y)\n",
    "\n",
    "print(\"Full Accuracy for l1 = \" + str(full_accuracy_l1))\n",
    "\n",
    "#Display coefficients image\n",
    "\n"
   ]
  },
  {
   "cell_type": "markdown",
   "metadata": {},
   "source": [
    "Problem 3"
   ]
  },
  {
   "cell_type": "code",
   "execution_count": 13,
   "metadata": {},
   "outputs": [
    {
     "name": "stdout",
     "output_type": "stream",
     "text": [
      "Generalization Error: 0.9705428571428574\n",
      "Accuracy : 0.029457142857142626\n",
      "\n",
      "Best n_estimator parameter: 500\n"
     ]
    }
   ],
   "source": [
    "#Random Forests MNIST\n",
    "\n",
    "random_Forest = RandomForestClassifier(n_estimators=500)\n",
    "\n",
    "random_Forest.fit(X, y)\n",
    "\n",
    "generalization_error = np.mean(cross_val_score(random_Forest, X, y, cv = 10))\n",
    "print(\"Generalization Error: \" + str(generalization_error))\n",
    "\n",
    "accuracy = 1 - generalization_error\n",
    "print(\"Accuracy : \" + str(accuracy))\n",
    "\n",
    "print(\"\\nBest n_estimator parameter: 500\")"
   ]
  },
  {
   "cell_type": "code",
   "execution_count": null,
   "metadata": {},
   "outputs": [],
   "source": [
    "#Gradient Boosting MNIST\n",
    "\n",
    "gradient_Boost = GradientBoostingClassifier()\n",
    "\n",
    "gradient_Boost.fit(X, y)\n",
    "\n",
    "gen_error_boost = np.mean(cross_val_score(gradient_Boost, X, y, cv = 10))\n",
    "print(\"Generalization Error: \" + str(gen_error_boost))\n",
    "\n",
    "accuracy_boost = 1 - generalization_error\n",
    "print(\"Accuracy : \" + str(accuracy_boost))\n",
    "\n",
    "print(\"\\nBest n_estimator parameter: 100\")\n"
   ]
  },
  {
   "cell_type": "markdown",
   "metadata": {},
   "source": [
    "Problem 4"
   ]
  },
  {
   "cell_type": "code",
   "execution_count": null,
   "metadata": {},
   "outputs": [],
   "source": []
  }
 ],
 "metadata": {
  "interpreter": {
   "hash": "1dad66442678a98f39e5b152fd943ae10a1faa89c25104c05e2c1e46874487d8"
  },
  "kernelspec": {
   "display_name": "Python 3.9.7 64-bit (windows store)",
   "name": "python3"
  },
  "language_info": {
   "codemirror_mode": {
    "name": "ipython",
    "version": 3
   },
   "file_extension": ".py",
   "mimetype": "text/x-python",
   "name": "python",
   "nbconvert_exporter": "python",
   "pygments_lexer": "ipython3",
   "version": "3.9.7"
  },
  "orig_nbformat": 4
 },
 "nbformat": 4,
 "nbformat_minor": 2
}
